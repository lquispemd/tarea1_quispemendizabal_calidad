{
  "nbformat": 4,
  "nbformat_minor": 0,
  "metadata": {
    "colab": {
      "provenance": []
    },
    "kernelspec": {
      "name": "python3",
      "display_name": "Python 3"
    },
    "language_info": {
      "name": "python"
    }
  },
  "cells": [
    {
      "cell_type": "markdown",
      "source": [
        "# 1.TIPO DE CAMBIO"
      ],
      "metadata": {
        "id": "RB6tNFVpelmE"
      }
    },
    {
      "cell_type": "code",
      "source": [
        "##DATO EXTRAIDO TIPO DE CAMBIO"
      ],
      "metadata": {
        "id": "xNgFvsil49bH"
      },
      "execution_count": null,
      "outputs": []
    },
    {
      "cell_type": "code",
      "source": [
        "import requests\n",
        "import pandas as pd\n",
        "\n",
        "# API abierta de tipo de cambio actual USD -> PEN\n",
        "url = \"https://open.er-api.com/v6/latest/USD\" ### API UTILIZADA\n",
        "\n",
        "headers = {\n",
        "    \"User-Agent\": \"proyecto-forecast-lizeth/1.0\"\n",
        "}\n",
        "\n",
        "response = requests.get(url,headers=headers)\n",
        "data = response.json()\n",
        "\n",
        "# Extraer tipo de cambio\n",
        "tipo_cambio = data['rates']['PEN']\n",
        "fecha = data['time_last_update_utc']\n",
        "# Crear DataFrame\n",
        "df_tc = pd.DataFrame([{\n",
        "    'fecha': pd.to_datetime(fecha), ##DATOS EXTRAIDO\n",
        "    'tipo_cambio': tipo_cambio ##DATO EXTRAIDO\n",
        "}])\n",
        "\n",
        "print(df_tc)\n",
        "\n"
      ],
      "metadata": {
        "colab": {
          "base_uri": "https://localhost:8080/"
        },
        "id": "bu03vDV1X4Nz",
        "outputId": "4cfe727a-2210-4905-8a7e-d470ec687958"
      },
      "execution_count": 2,
      "outputs": [
        {
          "output_type": "stream",
          "name": "stdout",
          "text": [
            "                      fecha  tipo_cambio\n",
            "0 2025-04-04 00:02:32+00:00     3.666956\n"
          ]
        }
      ]
    },
    {
      "cell_type": "markdown",
      "source": [
        "**JUSTIFICACION**\n",
        "\n",
        "En una estrategia de precios, el tipo de cambio influye en el costo de productos importados. Si el dato está desactualizado o tiene valores extremos, puede generar decisiones erróneas sobre precios o márgenes. Por eso es clave validar su confiabilidad."
      ],
      "metadata": {
        "id": "9NV5rCk57g7v"
      }
    },
    {
      "cell_type": "code",
      "source": [
        "##INDICADORES DE CALIDAD##"
      ],
      "metadata": {
        "id": "hAVy-wBRekfj"
      },
      "execution_count": null,
      "outputs": []
    },
    {
      "cell_type": "code",
      "source": [
        "#1.Actualización:\n",
        "##VER LA ÚLTIMA FECHA\n",
        "##La API devuelve la fecha de la última actualización (`time_last_update_utc`) para asegurar que los datos están al día.\n",
        "fecha = data['time_last_update_utc']\n",
        "print(fecha)"
      ],
      "metadata": {
        "colab": {
          "base_uri": "https://localhost:8080/"
        },
        "id": "mKOeynJqgDn8",
        "outputId": "8a972ec2-66e7-4549-e56b-2d9e213113a2"
      },
      "execution_count": 19,
      "outputs": [
        {
          "output_type": "stream",
          "name": "stdout",
          "text": [
            "Fri, 04 Apr 2025 00:02:32 +0000\n"
          ]
        }
      ]
    },
    {
      "cell_type": "code",
      "source": [
        "##2. COMPLETITUD: VERIFICA QUE EL VALOR DE TIPO DE CAMBIO NO ES NULO\n",
        "##PARA VER SI HAY NULOS\n",
        "print(df_tc.isnull().sum())"
      ],
      "metadata": {
        "colab": {
          "base_uri": "https://localhost:8080/"
        },
        "id": "ZN3Am_QVeLWM",
        "outputId": "33219e47-318a-4c07-f44e-33f3817c96ea"
      },
      "execution_count": 15,
      "outputs": [
        {
          "output_type": "stream",
          "name": "stdout",
          "text": [
            "fecha          0\n",
            "tipo_cambio    0\n",
            "dtype: int64\n"
          ]
        }
      ]
    },
    {
      "cell_type": "code",
      "source": [
        "#3. RANGO LÓGICO : COMPROBAR QUE EL TIPO DE CAMBIO ESTÉ DENTRO DE UN VALOR REALISTA\n",
        "##PARA VER SI EL RANGO ES LÓGICO\n",
        "print(df_tc['tipo_cambio'].describe())"
      ],
      "metadata": {
        "colab": {
          "base_uri": "https://localhost:8080/"
        },
        "id": "1U7_7v1xegfT",
        "outputId": "35faa9ac-d900-4ba1-ecbc-f245568182fe"
      },
      "execution_count": 16,
      "outputs": [
        {
          "output_type": "stream",
          "name": "stdout",
          "text": [
            "count    1.000000\n",
            "mean     3.666956\n",
            "std           NaN\n",
            "min      3.666956\n",
            "25%      3.666956\n",
            "50%      3.666956\n",
            "75%      3.666956\n",
            "max      3.666956\n",
            "Name: tipo_cambio, dtype: float64\n"
          ]
        }
      ]
    },
    {
      "cell_type": "code",
      "source": [
        "###En una estrategia de precios, el tipo de cambio influye en el costo de productos importados. Si el dato está desactualizado o tiene valores extremos, puede generar decisiones erróneas sobre precios o márgenes. Por eso es clave validar su confiabilidad."
      ],
      "metadata": {
        "id": "Z6gB-oxEflxE"
      },
      "execution_count": null,
      "outputs": []
    },
    {
      "cell_type": "markdown",
      "source": [
        "# 2.TEMPERATURA"
      ],
      "metadata": {
        "id": "n_QpVtH40jjp"
      }
    },
    {
      "cell_type": "code",
      "source": [
        "#DATO EXTRAIDO = TEMPERATURA HORARIA ESTIMADA EN LIMA DURANTE LAS PRÓXIMAS 24 HORAS."
      ],
      "metadata": {
        "id": "xTmREMM15GJZ"
      },
      "execution_count": null,
      "outputs": []
    },
    {
      "cell_type": "code",
      "source": [
        "import requests\n",
        "import pandas as pd\n",
        "\n",
        "# Coordenadas de Lima\n",
        "lat = -12.0464\n",
        "lon = -77.0428\n",
        "\n",
        "# API de clima de MET Norway\n",
        "url = f\"https://api.met.no/weatherapi/locationforecast/2.0/compact?lat={lat}&lon={lon}\"\n",
        "\n",
        "# MET Norway requiere que definas un \"User-Agent\"\n",
        "headers = {\n",
        "    \"User-Agent\": \"proyecto-forecast-lizeth/1.0\"\n",
        "}\n",
        "\n",
        "response = requests.get(url, headers=headers)\n",
        "data = response.json()\n",
        "\n",
        "# Extraer temperatura de los primeros registros\n",
        "forecast = data['properties']['timeseries']\n",
        "\n",
        "temperaturas = []\n",
        "for punto in forecast[:24]:  # Tomamos primeras 24 horas\n",
        "    fecha = punto['time']\n",
        "    temp = punto['data']['instant']['details']['air_temperature']\n",
        "    temperaturas.append({'fecha': fecha, 'temperatura': temp})\n",
        "\n",
        "df_temp = pd.DataFrame(temperaturas)\n",
        "df_temp['fecha'] = pd.to_datetime(df_temp['fecha'])\n",
        "\n",
        "print(df_temp.head())\n"
      ],
      "metadata": {
        "colab": {
          "base_uri": "https://localhost:8080/"
        },
        "id": "QoFIE76Q0-81",
        "outputId": "f9cb8800-655a-4eda-c2db-8a894ac407d6"
      },
      "execution_count": 1,
      "outputs": [
        {
          "output_type": "stream",
          "name": "stdout",
          "text": [
            "                      fecha  temperatura\n",
            "0 2025-04-04 17:00:00+00:00         27.3\n",
            "1 2025-04-04 18:00:00+00:00         26.9\n",
            "2 2025-04-04 19:00:00+00:00         27.0\n",
            "3 2025-04-04 20:00:00+00:00         27.1\n",
            "4 2025-04-04 21:00:00+00:00         26.2\n"
          ]
        }
      ]
    },
    {
      "cell_type": "code",
      "source": [
        "##INDICADORES DE CALIDAD APLICADOS\n"
      ],
      "metadata": {
        "id": "ZYuT6Qo14hYW"
      },
      "execution_count": null,
      "outputs": []
    },
    {
      "cell_type": "code",
      "source": [
        "#1. COMPLETITUD\n",
        "#VERIFICANDO QUE NO HAYA REGISTROS NULOS EN LA COLUMNA 'temperatura'\n",
        "print(df_temp['temperatura'].isnull().sum())"
      ],
      "metadata": {
        "colab": {
          "base_uri": "https://localhost:8080/"
        },
        "id": "y9v_0LFz5-vn",
        "outputId": "1eadefbf-af99-435c-a5c1-cf76a71b4a8e"
      },
      "execution_count": 3,
      "outputs": [
        {
          "output_type": "stream",
          "name": "stdout",
          "text": [
            "0\n"
          ]
        }
      ]
    },
    {
      "cell_type": "code",
      "source": [
        "#2.RANGO LÓGICO\n",
        "#Se comprobó que los valores estén dentro del rango esperado para Lima (entre 10°C y 40°C).\n",
        "print(df_temp['temperatura'].describe())"
      ],
      "metadata": {
        "colab": {
          "base_uri": "https://localhost:8080/"
        },
        "id": "-4Wv7zH86Pt1",
        "outputId": "a04f283e-4e83-4afc-8b3f-7a629ad9d2b6"
      },
      "execution_count": 4,
      "outputs": [
        {
          "output_type": "stream",
          "name": "stdout",
          "text": [
            "count    24.000000\n",
            "mean     23.362500\n",
            "std       2.750939\n",
            "min      20.100000\n",
            "25%      20.875000\n",
            "50%      22.350000\n",
            "75%      26.375000\n",
            "max      27.300000\n",
            "Name: temperatura, dtype: float64\n"
          ]
        }
      ]
    },
    {
      "cell_type": "code",
      "source": [
        "#3.FORMATO DE FECHA\n",
        "#Las fechas fueron convertidas correctamente al formato `datetime` para garantizar su uso en series temporales.\n",
        "print(df_temp['fecha'].min(), '→', df_temp['fecha'].max())\n"
      ],
      "metadata": {
        "colab": {
          "base_uri": "https://localhost:8080/"
        },
        "id": "nUqVhrw96rZU",
        "outputId": "dcd3fae1-3535-454c-f93e-e771ddf59b9b"
      },
      "execution_count": 5,
      "outputs": [
        {
          "output_type": "stream",
          "name": "stdout",
          "text": [
            "2025-04-04 17:00:00+00:00 → 2025-04-05 16:00:00+00:00\n"
          ]
        }
      ]
    },
    {
      "cell_type": "markdown",
      "source": [
        "**JUSTIFICACIÓN**\n",
        "\n",
        "La temperatura puede afectar la demanda de ciertos productos, por ejemplo bebidas frías, ropa ligera, o decisiones logísticas. Datos incompletos o fuera de rango podrían afectar la precisión de un modelo de forecast o de decisiones operativas basadas en clima."
      ],
      "metadata": {
        "id": "HmQNQhHg7XKz"
      }
    },
    {
      "cell_type": "markdown",
      "source": [
        "# 3.NOTICIAS"
      ],
      "metadata": {
        "id": "-pXf15yu7nfy"
      }
    },
    {
      "cell_type": "code",
      "source": [
        "import requests\n",
        "import pandas as pd\n",
        "\n",
        "api_key = #insertar tu api_key te da 200 creditos al registrarte obtener en la pagina https://newsdata.io/   #\n",
        "\n",
        "# Endpoint demo (limitado pero funcional)\n",
        "url = f\"https://newsdata.io/api/1/news?apikey={api_key}&q=escasez+precios&language=es&country=pe\"\n",
        "\n",
        "headers = {\n",
        "    \"User-Agent\": \"forecast-noticias-tino/1.0\"\n",
        "}\n",
        "\n",
        "response = requests.get(url, headers=headers)\n",
        "data = response.json()\n",
        "print(data)\n",
        "\n",
        "# Extraer noticias\n",
        "noticias = []\n",
        "for item in data['results']:\n",
        "    noticias.append({\n",
        "        'titulo': item['title'],\n",
        "        'fuente': item.get('source_id','Desconocida'),\n",
        "        'fecha': item['pubDate'],\n",
        "        'descripcion': item['description'],\n",
        "        'url': item['link']\n",
        "    })\n",
        "\n",
        "\n",
        "# Convertir a DataFrame\n",
        "df_news = pd.DataFrame(noticias)\n",
        "df_news['fecha'] = pd.to_datetime(df_news['fecha'])\n",
        "\n",
        "print(df_news.head())\n"
      ],
      "metadata": {
        "colab": {
          "base_uri": "https://localhost:8080/"
        },
        "id": "L5IjBib18X02",
        "outputId": "90838243-9fea-438b-af0b-c828b8aa4788"
      },
      "execution_count": 14,
      "outputs": [
        {
          "output_type": "stream",
          "name": "stdout",
          "text": [
            "{'status': 'success', 'totalResults': 9, 'results': [{'article_id': '9ba87d2583bd66cfc69ae4783c3c196e', 'title': 'Malas noticias para inmigrantes en EEUU: un estado implementa nuevas medidas para arrestar indocumentados por delitos menores', 'link': 'https://larepublica.pe/mundo/2025/04/03/malas-noticias-para-inmigrantes-en-estados-unidos-un-estado-implementa-nuevas-medidas-para-arrestar-indocumentados-por-delitos-menores-lrtmus-91392', 'keywords': ['mundo'], 'creator': None, 'video_url': None, 'description': 'En Estados Unidos, un estado implementa nuevas directrices que permiten la detención de inmigrantes indocumentados por infracciones menores, como conducir sin licencia, generando controversia.', 'content': 'ONLY AVAILABLE IN PAID PLANS', 'pubDate': '2025-04-03 23:57:02', 'pubDateTZ': 'UTC', 'image_url': 'https://imgmedia.larepublica.pe/1200x630/larepublica/original/2025/04/03/67ef1c8a0d59007ae302b1a6.jpg', 'source_id': 'larepublica', 'source_priority': 7044, 'source_name': 'La Republica', 'source_url': 'https://larepublica.pe', 'source_icon': 'https://i.bytvi.com/domain_icons/larepublica.jpg', 'language': 'spanish', 'country': ['peru'], 'category': ['top'], 'ai_tag': 'ONLY AVAILABLE IN PROFESSIONAL AND CORPORATE PLANS', 'sentiment': 'ONLY AVAILABLE IN PROFESSIONAL AND CORPORATE PLANS', 'sentiment_stats': 'ONLY AVAILABLE IN PROFESSIONAL AND CORPORATE PLANS', 'ai_region': 'ONLY AVAILABLE IN CORPORATE PLANS', 'ai_org': 'ONLY AVAILABLE IN CORPORATE PLANS', 'duplicate': False}, {'article_id': 'bb5d426902ea13d75d0d3eacacad10e4', 'title': 'Bill Gates asegura que jornada laboral se reducirá a 2 días: confía en el potencial humanitario de la inteligencia artificial', 'link': 'https://larepublica.pe/mundo/2025/04/03/bill-gates-asegura-que-jornada-laboral-se-reducira-a-2-dias-confia-en-el-potencial-humanitario-de-la-inteligencia-artificial-lrtmusv-113046', 'keywords': ['mundo'], 'creator': None, 'video_url': None, 'description': 'El cofundador de Microsoft indicó que la inteligencia artificial traerá grandes beneficios en el campo de la medicina, aproximadamente, 10 años.', 'content': 'ONLY AVAILABLE IN PAID PLANS', 'pubDate': '2025-04-03 23:53:15', 'pubDateTZ': 'UTC', 'image_url': 'https://imgmedia.larepublica.pe/1200x630/larepublica/original/2025/04/03/67ef1f3a6c07bd5e2d0c9e57.jpg', 'source_id': 'larepublica', 'source_priority': 7044, 'source_name': 'La Republica', 'source_url': 'https://larepublica.pe', 'source_icon': 'https://i.bytvi.com/domain_icons/larepublica.jpg', 'language': 'spanish', 'country': ['peru'], 'category': ['world'], 'ai_tag': 'ONLY AVAILABLE IN PROFESSIONAL AND CORPORATE PLANS', 'sentiment': 'ONLY AVAILABLE IN PROFESSIONAL AND CORPORATE PLANS', 'sentiment_stats': 'ONLY AVAILABLE IN PROFESSIONAL AND CORPORATE PLANS', 'ai_region': 'ONLY AVAILABLE IN CORPORATE PLANS', 'ai_org': 'ONLY AVAILABLE IN CORPORATE PLANS', 'duplicate': False}, {'article_id': '125bbfe97b80a58c9380a865b2ea80a7', 'title': 'Aranceles de Trump: la economía que depende únicamente de sus exportaciones a EE.UU.', 'link': 'https://gestion.pe/mundo/internacional/aranceles-de-trump-haiti-la-fragil-economia-que-depende-unicamente-de-sus-exportaciones-a-eeuu-noticia/', 'keywords': None, 'creator': ['Agencia EFE'], 'video_url': None, 'description': 'La frágil economía de Haití enfrenta un nuevo desafío después de que el presidente de Estados Unidos, Donald Trump, anunciara este miércoles un arancel del 10% a las importaciones de países latinoamericanos y caribeños, incluyendo Haití.', 'content': 'ONLY AVAILABLE IN PAID PLANS', 'pubDate': '2025-04-03 19:04:58', 'pubDateTZ': 'UTC', 'image_url': 'https://gestion.pe/resizer/v2/GBBKVTG7RZF4ZKZBNDKEEJN724.jpg?auth=1b9256552633b2b391d26937e32e050d52f8c31aec03bb84eda24cf17fdece73&height=528&quality=75&smart=true&width=980', 'source_id': 'gestionpe', 'source_priority': 51536, 'source_name': 'Gestión', 'source_url': 'https://gestion.pe', 'source_icon': 'https://i.bytvi.com/domain_icons/gestionpe.png', 'language': 'spanish', 'country': ['peru'], 'category': ['world'], 'ai_tag': 'ONLY AVAILABLE IN PROFESSIONAL AND CORPORATE PLANS', 'sentiment': 'ONLY AVAILABLE IN PROFESSIONAL AND CORPORATE PLANS', 'sentiment_stats': 'ONLY AVAILABLE IN PROFESSIONAL AND CORPORATE PLANS', 'ai_region': 'ONLY AVAILABLE IN CORPORATE PLANS', 'ai_org': 'ONLY AVAILABLE IN CORPORATE PLANS', 'duplicate': False}, {'article_id': 'd12d10645d498a7673f4e92645ee910e', 'title': 'Aranceles en Estados Unidos: consumidores se adelantan a comprar autos por temor a un alza de precios', 'link': 'https://larepublica.pe/mundo/2025/04/03/aranceles-en-estados-unidos-consumidores-se-adelantan-a-comprar-autos-por-temor-a-un-alza-de-precios-lrtmus-182793', 'keywords': ['mundo'], 'creator': None, 'video_url': None, 'description': 'El mercado automotriz de Estados Unidos vive un repunte en las ventas, con compradores que intentan asegurar precios más bajos ante la posible reactivación de aranceles que podrían elevar los costos.', 'content': 'ONLY AVAILABLE IN PAID PLANS', 'pubDate': '2025-04-03 13:52:34', 'pubDateTZ': 'UTC', 'image_url': 'https://imgmedia.larepublica.pe/1200x630/larepublica/original/2025/04/03/67ee8e8c89ad48b068086942.jpg', 'source_id': 'larepublica', 'source_priority': 7044, 'source_name': 'La Republica', 'source_url': 'https://larepublica.pe', 'source_icon': 'https://i.bytvi.com/domain_icons/larepublica.jpg', 'language': 'spanish', 'country': ['peru'], 'category': ['world'], 'ai_tag': 'ONLY AVAILABLE IN PROFESSIONAL AND CORPORATE PLANS', 'sentiment': 'ONLY AVAILABLE IN PROFESSIONAL AND CORPORATE PLANS', 'sentiment_stats': 'ONLY AVAILABLE IN PROFESSIONAL AND CORPORATE PLANS', 'ai_region': 'ONLY AVAILABLE IN CORPORATE PLANS', 'ai_org': 'ONLY AVAILABLE IN CORPORATE PLANS', 'duplicate': False}, {'article_id': '335815d57573e3dc22eae58b06b385e4', 'title': 'Precio de los huevos en EE. UU.: ¿cuánto cuestan actualmente en Costco?', 'link': 'https://larepublica.pe/datos-estados-unidos/2025/04/02/precio-de-los-huevos-en-estados-unidos-cuanto-cuestan-actualmente-en-costco-lrtmusv-130658', 'keywords': ['datos estados unidos'], 'creator': None, 'video_url': None, 'description': 'Los precios de los huevos en EE. UU. siguen siendo un tema de interés tras el impacto de la gripe aviar, que elevó costos y causó escasez temporal. El aumento de precios ha llevado a consumidores a buscar mejores ofertas.', 'content': 'ONLY AVAILABLE IN PAID PLANS', 'pubDate': '2025-04-03 01:25:23', 'pubDateTZ': 'UTC', 'image_url': 'https://imgmedia.larepublica.pe/1200x630/larepublica/original/2025/04/02/67ede19f6d427315f8033edb.jpg', 'source_id': 'larepublica', 'source_priority': 7044, 'source_name': 'La Republica', 'source_url': 'https://larepublica.pe', 'source_icon': 'https://i.bytvi.com/domain_icons/larepublica.jpg', 'language': 'spanish', 'country': ['peru'], 'category': ['top'], 'ai_tag': 'ONLY AVAILABLE IN PROFESSIONAL AND CORPORATE PLANS', 'sentiment': 'ONLY AVAILABLE IN PROFESSIONAL AND CORPORATE PLANS', 'sentiment_stats': 'ONLY AVAILABLE IN PROFESSIONAL AND CORPORATE PLANS', 'ai_region': 'ONLY AVAILABLE IN CORPORATE PLANS', 'ai_org': 'ONLY AVAILABLE IN CORPORATE PLANS', 'duplicate': False}, {'article_id': '3cc33d6301b48bd8a9830904c3c138b7', 'title': 'Estados Unidos podría convertirse en el país con la mayor reserva de litio del mundo tras hallazgo en supervolcán', 'link': 'https://larepublica.pe/ciencia/2025/04/02/estados-unidos-podria-convertirse-en-el-pais-con-la-mayor-reserva-de-litio-del-mundo-tras-hallazgo-en-supervolcan-caldera-mcdermitt-nevada-oregon-116960', 'keywords': ['ciencia'], 'creator': None, 'video_url': None, 'description': 'Una investigación indica que la Caldera McDermitt, en Estados Unidos, podría albergar entre 24 y 40 millones de toneladas de litio, una cantidad que superaría a los yacimientos de Bolivia.', 'content': 'ONLY AVAILABLE IN PAID PLANS', 'pubDate': '2025-04-02 23:31:31', 'pubDateTZ': 'UTC', 'image_url': 'https://imgmedia.larepublica.pe/1200x630/larepublica/original/2025/04/02/67edc6626d427315f8033ed4.jpg', 'source_id': 'larepublica', 'source_priority': 7044, 'source_name': 'La Republica', 'source_url': 'https://larepublica.pe', 'source_icon': 'https://i.bytvi.com/domain_icons/larepublica.jpg', 'language': 'spanish', 'country': ['peru'], 'category': ['science'], 'ai_tag': 'ONLY AVAILABLE IN PROFESSIONAL AND CORPORATE PLANS', 'sentiment': 'ONLY AVAILABLE IN PROFESSIONAL AND CORPORATE PLANS', 'sentiment_stats': 'ONLY AVAILABLE IN PROFESSIONAL AND CORPORATE PLANS', 'ai_region': 'ONLY AVAILABLE IN CORPORATE PLANS', 'ai_org': 'ONLY AVAILABLE IN CORPORATE PLANS', 'duplicate': False}, {'article_id': '3e644d6a6eddbda90d1ea20094d88ea3', 'title': '¿La tienes en tu bolsillo? Es solo una moneda de 25 centavos del año 1964 pero en realidad vale una fortuna', 'link': 'https://elcomercio.pe/mag/respuestas/us/cuanto-vale-esta-moneda-de-25-centavos-del-ano-1964-y-por-que-es-tan-especial-estados-unidos-nnda-nnlt-noticia/', 'keywords': None, 'creator': None, 'video_url': None, 'description': 'En el intrigante universo de la numismática, la moneda de 25 centavos de 1964 SMS se erige como un enigma, un verdadero tesoro que podría transformar la fortuna de cualquier coleccionista, con solo 50 piezas reconocidas en el mundo.', 'content': 'ONLY AVAILABLE IN PAID PLANS', 'pubDate': '2025-04-02 20:19:57', 'pubDateTZ': 'UTC', 'image_url': 'https://elcomercio.pe/resizer/v2/MZQZWQAQGZFIZBPRHNF34RU3PM.jpg?auth=c54c354aaff0c288349309363622218e002a41522dcc7a2d2d817f95a5800b07&height=528&quality=75&smart=true&width=980', 'source_id': 'elcomercio', 'source_priority': 3365, 'source_name': 'El Comercio Perú', 'source_url': 'https://elcomercio.pe', 'source_icon': 'https://i.bytvi.com/domain_icons/elcomercio.png', 'language': 'spanish', 'country': ['peru'], 'category': ['top'], 'ai_tag': 'ONLY AVAILABLE IN PROFESSIONAL AND CORPORATE PLANS', 'sentiment': 'ONLY AVAILABLE IN PROFESSIONAL AND CORPORATE PLANS', 'sentiment_stats': 'ONLY AVAILABLE IN PROFESSIONAL AND CORPORATE PLANS', 'ai_region': 'ONLY AVAILABLE IN CORPORATE PLANS', 'ai_org': 'ONLY AVAILABLE IN CORPORATE PLANS', 'duplicate': False}, {'article_id': 'dbc446fedc1b57689044a80e8c574a04', 'title': 'Medifarma, sus millonarios contratos con el Minsa y el posible desabastecimiento de sueros en hospitales', 'link': 'https://larepublica.pe/sociedad/2025/04/02/medifarma-sus-millonarios-contratos-con-el-minsa-y-el-posible-desabastecimiento-de-sueros-en-hospitales-hnews-162380', 'keywords': ['sociedad'], 'creator': None, 'video_url': None, 'description': 'La empresa podría afrontar una multa de más de 2 millones de soles, según Indecopi. Los dueños de Medifarma también son propietarios de Electrolight, Mentholatum, Mejoralito, Dr. Zaidman, entre otros.', 'content': 'ONLY AVAILABLE IN PAID PLANS', 'pubDate': '2025-04-02 18:49:34', 'pubDateTZ': 'UTC', 'image_url': 'https://imgmedia.larepublica.pe/1200x630/larepublica/original/2025/04/02/67ed865e6d427315f8033eb3.jpg', 'source_id': 'larepublica', 'source_priority': 7044, 'source_name': 'La Republica', 'source_url': 'https://larepublica.pe', 'source_icon': 'https://i.bytvi.com/domain_icons/larepublica.jpg', 'language': 'spanish', 'country': ['peru'], 'category': ['top'], 'ai_tag': 'ONLY AVAILABLE IN PROFESSIONAL AND CORPORATE PLANS', 'sentiment': 'ONLY AVAILABLE IN PROFESSIONAL AND CORPORATE PLANS', 'sentiment_stats': 'ONLY AVAILABLE IN PROFESSIONAL AND CORPORATE PLANS', 'ai_region': 'ONLY AVAILABLE IN CORPORATE PLANS', 'ai_org': 'ONLY AVAILABLE IN CORPORATE PLANS', 'duplicate': False}, {'article_id': 'aca6017949e44661f78d743a59736274', 'title': 'Presidente de Boticas y Farmacias del Perú alerta sobre desabastecimiento de suero fisiológico tras cierre de Medifarma', 'link': 'https://larepublica.pe/sociedad/2025/04/02/presidente-de-boticas-y-farmacias-del-peru-alerta-sobre-desabastecimiento-de-suero-fisiologico-tras-cierre-de-medifarma-minsa-hnews-91264', 'keywords': ['sociedad'], 'creator': None, 'video_url': None, 'description': 'Aly Carlos Villarroel, presidente de Anabif, advirtió que la escasez de este producto podría generar un aumento en los precios. Por este motivo, solicitó al Gobierno tomar medidas rápidas y urgentes ante esta situación.', 'content': 'ONLY AVAILABLE IN PAID PLANS', 'pubDate': '2025-04-02 18:39:24', 'pubDateTZ': 'UTC', 'image_url': 'https://imgmedia.larepublica.pe/1200x630/larepublica/original/2025/04/02/67ed83fdaf5c9ef316084b59.jpg', 'source_id': 'larepublica', 'source_priority': 7044, 'source_name': 'La Republica', 'source_url': 'https://larepublica.pe', 'source_icon': 'https://i.bytvi.com/domain_icons/larepublica.jpg', 'language': 'spanish', 'country': ['peru'], 'category': ['top'], 'ai_tag': 'ONLY AVAILABLE IN PROFESSIONAL AND CORPORATE PLANS', 'sentiment': 'ONLY AVAILABLE IN PROFESSIONAL AND CORPORATE PLANS', 'sentiment_stats': 'ONLY AVAILABLE IN PROFESSIONAL AND CORPORATE PLANS', 'ai_region': 'ONLY AVAILABLE IN CORPORATE PLANS', 'ai_org': 'ONLY AVAILABLE IN CORPORATE PLANS', 'duplicate': False}], 'nextPage': None}\n",
            "                                              titulo       fuente  \\\n",
            "0  Malas noticias para inmigrantes en EEUU: un es...  larepublica   \n",
            "1  Bill Gates asegura que jornada laboral se redu...  larepublica   \n",
            "2  Aranceles de Trump: la economía que depende u...    gestionpe   \n",
            "3  Aranceles en Estados Unidos: consumidores se a...  larepublica   \n",
            "4  Precio de los huevos en EE. UU.: ¿cuánto cues...  larepublica   \n",
            "\n",
            "                fecha                                        descripcion  \\\n",
            "0 2025-04-03 23:57:02  En Estados Unidos, un estado implementa nuevas...   \n",
            "1 2025-04-03 23:53:15  El cofundador de Microsoft indicó que la inte...   \n",
            "2 2025-04-03 19:04:58  La frágil economía de Haití enfrenta un nue...   \n",
            "3 2025-04-03 13:52:34  El mercado automotriz de Estados Unidos vive u...   \n",
            "4 2025-04-03 01:25:23  Los precios de los huevos en EE. UU. siguen si...   \n",
            "\n",
            "                                                 url  \n",
            "0  https://larepublica.pe/mundo/2025/04/03/malas-...  \n",
            "1  https://larepublica.pe/mundo/2025/04/03/bill-g...  \n",
            "2  https://gestion.pe/mundo/internacional/arancel...  \n",
            "3  https://larepublica.pe/mundo/2025/04/03/arance...  \n",
            "4  https://larepublica.pe/datos-estados-unidos/20...  \n"
          ]
        }
      ]
    },
    {
      "cell_type": "code",
      "source": [
        "##INDICADORES DE CALIDAD APLICADOS\n"
      ],
      "metadata": {
        "id": "ObGRtFkBBwAf"
      },
      "execution_count": null,
      "outputs": []
    },
    {
      "cell_type": "code",
      "source": [
        "##1. COMPLETITUD ##\n",
        "#Validé que campos como `titulo`, `fuente` y `fecha` estén completos#\n",
        "print(df_news.isnull().sum())"
      ],
      "metadata": {
        "colab": {
          "base_uri": "https://localhost:8080/"
        },
        "id": "huVYpPO5B5c3",
        "outputId": "eb454adb-6eb4-47bb-d0e0-36673ecc91c2"
      },
      "execution_count": 15,
      "outputs": [
        {
          "output_type": "stream",
          "name": "stdout",
          "text": [
            "titulo         0\n",
            "fuente         0\n",
            "fecha          0\n",
            "descripcion    0\n",
            "url            0\n",
            "dtype: int64\n"
          ]
        }
      ]
    },
    {
      "cell_type": "code",
      "source": [
        "##2.NO DUPLICIDAD##\n",
        "#Se comprobó que no haya títulos repetidos.\n",
        "print(df_news.duplicated(subset='titulo').sum())"
      ],
      "metadata": {
        "colab": {
          "base_uri": "https://localhost:8080/"
        },
        "id": "6KAsD2tXCeS2",
        "outputId": "87933889-ace8-4734-e181-4b582d3c98cb"
      },
      "execution_count": 16,
      "outputs": [
        {
          "output_type": "stream",
          "name": "stdout",
          "text": [
            "0\n"
          ]
        }
      ]
    },
    {
      "cell_type": "code",
      "source": [
        "##3.RELEVANCIA TEMÁTICA##\n",
        "#Se busca noticias relacionadas según el tema\n",
        "palabras_clave = ['escasez', 'precio', 'precios', 'demanda', 'inventario','temporada']\n",
        "#se convierte en minúsuclas para una correcta comparación (los títulos)\n",
        "df_news['texto_completo'] = df_news['titulo'].str.lower() + \" \" + df_news['descripcion'].str.lower()\n",
        "\n",
        "# Crear una columna para contar cuántas veces aparece alguna palabra clave\n",
        "df_news['relevante'] = df_news['texto_completo'].apply(\n",
        "    lambda texto: any(palabra in texto for palabra in palabras_clave)\n",
        ")\n",
        "\n",
        "# Filtrar noticias relevantes\n",
        "df_relevantes = df_news[df_news['relevante'] == True]\n",
        "\n",
        "# Mostrar\n",
        "print(\"🔎 Noticias relevantes según términos clave:\")\n",
        "print(df_relevantes[['titulo', 'fecha', 'fuente']])\n"
      ],
      "metadata": {
        "colab": {
          "base_uri": "https://localhost:8080/"
        },
        "id": "X_5wztyYDCJM",
        "outputId": "40997c6b-1d6b-4c18-832b-94c01e2eb96c"
      },
      "execution_count": 17,
      "outputs": [
        {
          "output_type": "stream",
          "name": "stdout",
          "text": [
            "🔎 Noticias relevantes según términos clave:\n",
            "                                              titulo               fecha  \\\n",
            "3  Aranceles en Estados Unidos: consumidores se a... 2025-04-03 13:52:34   \n",
            "4  Precio de los huevos en EE. UU.: ¿cuánto cues... 2025-04-03 01:25:23   \n",
            "8  Presidente de Boticas y Farmacias del Perú al... 2025-04-02 18:39:24   \n",
            "\n",
            "        fuente  \n",
            "3  larepublica  \n",
            "4  larepublica  \n",
            "8  larepublica  \n"
          ]
        }
      ]
    },
    {
      "cell_type": "markdown",
      "source": [
        "JUSTIFICACIÓN\n",
        "\n",
        "Las noticias económicas permiten identificar eventos que afectan la oferta o demanda, como desabastecimientos o alzas de precios. Son un insumo clave para una estrategia de precios predictiva. Por lo que buscar por palabras claves facilita la busqueda de noticias (datos) relacionados que podrían afectar la previsión de inventarios"
      ],
      "metadata": {
        "id": "qme5dB-xEUY7"
      }
    }
  ]
}
